{
  "nbformat": 4,
  "nbformat_minor": 0,
  "metadata": {
    "colab": {
      "provenance": [],
      "include_colab_link": true
    },
    "kernelspec": {
      "name": "python3",
      "display_name": "Python 3"
    },
    "language_info": {
      "name": "python"
    }
  },
  "cells": [
    {
      "cell_type": "markdown",
      "metadata": {
        "id": "view-in-github",
        "colab_type": "text"
      },
      "source": [
        "<a href=\"https://colab.research.google.com/github/sanjanagarai/Stock-Market-Forecasting/blob/main/Market_forecasting.ipynb\" target=\"_parent\"><img src=\"https://colab.research.google.com/assets/colab-badge.svg\" alt=\"Open In Colab\"/></a>"
      ]
    },
    {
      "cell_type": "code",
      "execution_count": 1,
      "metadata": {
        "id": "7bGY6-AAW5yd"
      },
      "outputs": [],
      "source": [
        "#create a dataset consisting of Date, Close, Compound score, Subjectivity and Polarity\n",
        "#We will create an LSTM network with 4 features\n",
        "#each input will be of size = num_samples, window_size, num_features\n",
        "#PAss this through the LSTM network"
      ]
    },
    {
      "cell_type": "code",
      "source": [
        "import pandas as pd\n",
        "import numpy as np\n",
        "import matplotlib.pyplot as plt\n",
        "from sklearn.preprocessing import MinMaxScaler\n",
        "### Create the Stacked LSTM model\n",
        "from tensorflow.keras.models import Sequential\n",
        "from tensorflow.keras.layers import Dense\n",
        "from tensorflow.keras.layers import LSTM"
      ],
      "metadata": {
        "id": "mklx7Dz7Xmlh"
      },
      "execution_count": 2,
      "outputs": []
    },
    {
      "cell_type": "code",
      "source": [
        "from math import *"
      ],
      "metadata": {
        "id": "1hdgPobWbGNJ"
      },
      "execution_count": 64,
      "outputs": []
    },
    {
      "cell_type": "code",
      "source": [
        "data = pd.read_csv(\"/content/Combined_News_DJIA(train).csv\")\n",
        "stock_data = pd.read_csv(\"/content/Test_DJIA_Table.csv\")"
      ],
      "metadata": {
        "id": "VCQF49eyXlHU"
      },
      "execution_count": 3,
      "outputs": []
    },
    {
      "cell_type": "code",
      "source": [
        "# Initialize an empty list to store close values\n",
        "close_values = []\n",
        "\n",
        "# Iterate over the rows of stock_data in reverse order\n",
        "for index, row in stock_data[::-1].iterrows():\n",
        "    close_values.append(row['Adj Close'])\n",
        "\n",
        "data['Close'] = close_values"
      ],
      "metadata": {
        "id": "SOD5beT0XaVY"
      },
      "execution_count": 4,
      "outputs": []
    },
    {
      "cell_type": "markdown",
      "source": [
        "Index = row_number on excel - 2"
      ],
      "metadata": {
        "id": "kW6_dX03Jwpg"
      }
    },
    {
      "cell_type": "code",
      "source": [
        "# Check for NaN values in the dataset\n",
        "print(\"Rows with NaN values before dropping:\")\n",
        "rows_with_nan_before = data[data.isnull().any(axis=1)]\n",
        "print(rows_with_nan_before)\n",
        "\n",
        "# Drop rows with NaN values\n",
        "data.dropna(inplace=True)\n",
        "\n",
        "# Print the row indices that are being dropped\n",
        "print(\"Indices of rows being dropped:\")\n",
        "print(rows_with_nan_before.index)"
      ],
      "metadata": {
        "colab": {
          "base_uri": "https://localhost:8080/"
        },
        "id": "GLsIRc6uIRKL",
        "outputId": "e8fab373-7a55-4d89-ce85-0c9072073434"
      },
      "execution_count": 5,
      "outputs": [
        {
          "output_type": "stream",
          "name": "stdout",
          "text": [
            "Rows with NaN values before dropping:\n",
            "           Date  Label                                               Top1  \\\n",
            "277  2009-09-15      1  b'The Church of Scientology won\\'t be dissolve...   \n",
            "348  2009-12-24      1  b'Woman knocks down Pope Benedict at Christmas...   \n",
            "681  2011-04-21      1  Director of \"Restrepo\" and Photographer Chris ...   \n",
            "\n",
            "                                                  Top2  \\\n",
            "277  b'New virus from rats can kill 80 per cent of ...   \n",
            "348  b'Ugandan President Museveni says he will bloc...   \n",
            "681  Everyone within 20km of Fukushima will be forc...   \n",
            "\n",
            "                                                  Top3  \\\n",
            "277  b'The gruesome spectacle of dolphins being sla...   \n",
            "348  b\"Venezuela's Chavez threatens to kick out car...   \n",
            "681  Bahrain: Activist Zaynab Al-Khawaja's letter t...   \n",
            "\n",
            "                                                  Top4  \\\n",
            "277  b'The End of Innocence in Afghanistan: \\'The G...   \n",
            "348  b'Woman who knocked down pope had pasta in her...   \n",
            "681  More than 80,000 people are claiming incapacit...   \n",
            "\n",
            "                                                  Top5  \\\n",
            "277            b'France approves Internet piracy bill'   \n",
            "348  b'450 people from 21 countries, including 30 f...   \n",
            "681  Libya: 'mission creep' claims as UK sends in m...   \n",
            "\n",
            "                                                  Top6  \\\n",
            "277  b'The Rural Doctors Association says right now...   \n",
            "348  b'Chvez declares Angel Falls is no more: World...   \n",
            "681  Japan considers banning access to evacuation zone   \n",
            "\n",
            "                                                  Top7  \\\n",
            "277  b'Al Jazeera English - Africa - Shabab to aven...   \n",
            "348             b'Drug tests catch out 10 police (UK)'   \n",
            "681  Chinese oil giant Sinopec has stopped exportin...   \n",
            "\n",
            "                                                  Top8  ...  \\\n",
            "277  b\"How Sri Lanka governs through detentions - S...  ...   \n",
            "348  b'Once the worlds fourth-largest lake, the Ara...  ...   \n",
            "681  6.0-magnitude earthquake strikes off east coas...  ...   \n",
            "\n",
            "                                                 Top17  \\\n",
            "277  b'UPDATE: 5-New York homes raided in terrorism...   \n",
            "348  b'Bin Laden daughter flees to Saudi embassy in...   \n",
            "681  Small amounts of radioactive iodine found in b...   \n",
            "\n",
            "                                                 Top18  \\\n",
            "277  b'Population Growth Impeding Progress on the M...   \n",
            "348  b'Traumatic Brain Injuries:  Growing evidence ...   \n",
            "681  War photographer, Oscar-nominated film directo...   \n",
            "\n",
            "                                                 Top19  \\\n",
            "277    b'Global Population to Reach 7 Billion by 2011'   \n",
            "348  b'The Pakistan Supreme Court has ordered the P...   \n",
            "681  Effeminate boys are being sent to a special ca...   \n",
            "\n",
            "                                                 Top20  \\\n",
            "277                b'Government Funded Feminist Porn '   \n",
            "348  b\"Here's a video the Taliban released this mor...   \n",
            "681  Japan Government Declares 12-Mile Area Around ...   \n",
            "\n",
            "                                                 Top21  \\\n",
            "277  b'Can someone enlighten me re:Holy Land disput...   \n",
            "348               b'Fireworks set off aboard airliner'   \n",
            "681  TEPCO admitted Wednesday that nuclear fuel in ...   \n",
            "\n",
            "                                                 Top22  \\\n",
            "277  b'Human Rights Watch official suspended for co...   \n",
            "348  b'Five VA men may face terrorism charges, Paki...   \n",
            "681  Fukushima evacuees face arrest if they return ...   \n",
            "\n",
            "                                                 Top23 Top24 Top25  \\\n",
            "277                                                NaN   NaN   NaN   \n",
            "348  b\"Ayatollah Montazeri's Legacy:  In death he m...   NaN   NaN   \n",
            "681          Prince Charles wins some kind of a record   NaN   NaN   \n",
            "\n",
            "            Close  \n",
            "277   9683.410156  \n",
            "348  10520.089840  \n",
            "681  12505.990230  \n",
            "\n",
            "[3 rows x 28 columns]\n",
            "Indices of rows being dropped:\n",
            "Int64Index([277, 348, 681], dtype='int64')\n"
          ]
        }
      ]
    },
    {
      "cell_type": "markdown",
      "source": [
        "The rows with indices 277, 348 and 681 have been dropped"
      ],
      "metadata": {
        "id": "VxyNeWpcJEwZ"
      }
    },
    {
      "cell_type": "code",
      "source": [
        "# Define a function to preprocess strings\n",
        "def preprocess_string(s):\n",
        "    if isinstance(s, str):\n",
        "        if s.startswith(\"b\\\"\") or s.startswith(\"b'\"):\n",
        "            s = s[2:]\n",
        "        if s.endswith('\"') or s.endswith(\"'\"):\n",
        "            s = s[:-1]\n",
        "    return s\n",
        "\n",
        "# Apply the preprocessing function to the 'Top' columns\n",
        "for col in data.columns:\n",
        "    if col.startswith('Top'):\n",
        "        data[col] = data[col].apply(preprocess_string)"
      ],
      "metadata": {
        "id": "RQry7w3wXxJD"
      },
      "execution_count": 6,
      "outputs": []
    },
    {
      "cell_type": "code",
      "source": [
        "# Define a function to preprocess strings\n",
        "def preprocess_string(s):\n",
        "    if isinstance(s, str):\n",
        "        if s.startswith(\"\\\"\") or s.startswith(\"'\"):\n",
        "            s = s[1:]\n",
        "        if s.endswith('\"') or s.endswith(\"'\"):\n",
        "            s = s[:-1]\n",
        "    return s\n",
        "\n",
        "# Apply the preprocessing function to the 'Top' columns\n",
        "for col in data.columns:\n",
        "    if col.startswith('Top'):\n",
        "        data[col] = data[col].apply(preprocess_string)"
      ],
      "metadata": {
        "id": "4rrLULFcX3eS"
      },
      "execution_count": 7,
      "outputs": []
    },
    {
      "cell_type": "code",
      "source": [
        "import nltk\n",
        "nltk.download('vader_lexicon')"
      ],
      "metadata": {
        "colab": {
          "base_uri": "https://localhost:8080/"
        },
        "id": "yJF9siStX5_t",
        "outputId": "b93d3e8d-3dbe-4b5e-e6b1-699978e50c95"
      },
      "execution_count": 8,
      "outputs": [
        {
          "output_type": "stream",
          "name": "stderr",
          "text": [
            "[nltk_data] Downloading package vader_lexicon to /root/nltk_data...\n"
          ]
        },
        {
          "output_type": "execute_result",
          "data": {
            "text/plain": [
              "True"
            ]
          },
          "metadata": {},
          "execution_count": 8
        }
      ]
    },
    {
      "cell_type": "code",
      "source": [
        "from nltk.sentiment.vader import SentimentIntensityAnalyzer\n",
        "\n",
        "# Initialize the VADER sentiment analyzer\n",
        "sid = SentimentIntensityAnalyzer()"
      ],
      "metadata": {
        "id": "hmU2owPxZzKi"
      },
      "execution_count": 9,
      "outputs": []
    },
    {
      "cell_type": "code",
      "source": [
        "# Initialize lists to store average sentiment scores for each day\n",
        "avg_compound = []\n",
        "\n",
        "# Iterate through each row of the DataFrame\n",
        "for index, row in data.iterrows():\n",
        "    com = 0\n",
        "\n",
        "    # Iterate through the entries of columns 2 to 27 for this row\n",
        "    for col in row[2:27]:\n",
        "        # Calculate sentiment scores for each entry\n",
        "        scores = sid.polarity_scores(col)\n",
        "        com += scores['compound']\n",
        "\n",
        "    # Divide pos, neg, and neu by 25 to get the average sentiment scores for each day\n",
        "    avg_compound.append(com / 25)\n",
        "\n",
        "# Add average sentiment scores to the DataFrame\n",
        "data['avg_compound'] = avg_compound\n"
      ],
      "metadata": {
        "id": "Uyn2hvsgX8Aq"
      },
      "execution_count": 10,
      "outputs": []
    },
    {
      "cell_type": "code",
      "source": [
        "from textblob import TextBlob"
      ],
      "metadata": {
        "id": "_ErEoNJUYCIN"
      },
      "execution_count": 11,
      "outputs": []
    },
    {
      "cell_type": "code",
      "source": [
        "# Initialize lists to store average sentiment scores for each day\n",
        "avg_sub = []\n",
        "avg_pol = []\n",
        "\n",
        "# Iterate through each row of the DataFrame\n",
        "for index, row in data.iterrows():\n",
        "    # Initialize variables to store sentiment scores for this row\n",
        "    sub = 0\n",
        "    pol = 0\n",
        "\n",
        "    # Iterate through the entries of columns 2 to 27 for this row\n",
        "    for col in row[2:27]:\n",
        "        # Calculate sentiment scores for each entry\n",
        "        blob = TextBlob(col)\n",
        "        sub += blob.sentiment.subjectivity\n",
        "        pol += blob.sentiment.polarity\n",
        "\n",
        "    # Divide pos, neg, and neu by 25 to get the average sentiment scores for each day\n",
        "    avg_sub.append(sub / 25)\n",
        "    avg_pol.append(pol / 25)\n",
        "\n",
        "\n",
        "# Add average sentiment scores to the DataFrame\n",
        "data['avg_subjectivity'] = avg_sub\n",
        "data['avg_polarity'] = avg_pol"
      ],
      "metadata": {
        "id": "-FiAltJrYDmI"
      },
      "execution_count": 12,
      "outputs": []
    },
    {
      "cell_type": "code",
      "source": [
        "# Drop the columns named 'Top1' through 'Top25'\n",
        "#data.drop(columns=['Top'+str(i) for i in range(1, 26)], inplace=True)\n",
        "\n",
        "def create_dataset(dataset, time_step=1):\n",
        "\tdataX, dataY = [], []\n",
        "\tfor i in range(len(dataset)-time_step):\n",
        "\t\ta = dataset[i:(i+time_step), 0]   ###i=0, 0,1,2,3-----99   100\n",
        "\t\tdataX.append(a)\n",
        "\t\tdataY.append(dataset[i + time_step, 0])\n",
        "\treturn np.array(dataX), np.array(dataY)"
      ],
      "metadata": {
        "id": "WE6DpGLrYH2S"
      },
      "execution_count": 13,
      "outputs": []
    },
    {
      "cell_type": "code",
      "source": [
        "df1 = data.reset_index()['Close']\n",
        "scaler=MinMaxScaler(feature_range=(0,1))\n",
        "df1=scaler.fit_transform(np.array(df1).reshape(-1,1))\n",
        "\n",
        "train_close = df1[:1860]\n",
        "test_close = df1[1761:]\n",
        "\n",
        "time_step = 100\n",
        "X_train_close, y_train_close = create_dataset(train_close, time_step)\n",
        "X_test_close, y_test_close = create_dataset(test_close, time_step)"
      ],
      "metadata": {
        "id": "8flrK3UvYjk5"
      },
      "execution_count": 33,
      "outputs": []
    },
    {
      "cell_type": "code",
      "source": [
        "df2 = data.reset_index()['avg_compound']\n",
        "df2 = np.array(df2).reshape(-1,1)\n",
        "\n",
        "train_score = df2[:1860]\n",
        "test_score = df2[1761:]\n",
        "\n",
        "time_step = 100\n",
        "X_train_score, y_train_score = create_dataset(train_score, time_step)\n",
        "X_test_score, y_test_score = create_dataset(test_score, time_step)"
      ],
      "metadata": {
        "id": "URCelhvEYXCO"
      },
      "execution_count": 34,
      "outputs": []
    },
    {
      "cell_type": "code",
      "source": [
        "df3 = data.reset_index()['avg_subjectivity']\n",
        "df3 = np.array(df3).reshape(-1,1)\n",
        "\n",
        "train_sub = df3[:1860]\n",
        "test_sub = df3[1761:]\n",
        "\n",
        "time_step = 100\n",
        "X_train_sub, y_train_sub = create_dataset(train_sub, time_step)\n",
        "X_test_sub, y_test_sub = create_dataset(test_sub, time_step)"
      ],
      "metadata": {
        "id": "xUJ0osDCgB8g"
      },
      "execution_count": 37,
      "outputs": []
    },
    {
      "cell_type": "code",
      "source": [
        "df4 = data.reset_index()['avg_polarity']\n",
        "df4 = np.array(df4).reshape(-1,1)\n",
        "\n",
        "train_pol = df4[:1860]\n",
        "test_pol = df4[1761:]\n",
        "\n",
        "time_step = 100\n",
        "X_train_pol, y_train_pol = create_dataset(train_pol, time_step)\n",
        "X_test_pol, y_test_pol = create_dataset(test_pol, time_step)"
      ],
      "metadata": {
        "id": "VSguxPQbgiVn"
      },
      "execution_count": 42,
      "outputs": []
    },
    {
      "cell_type": "code",
      "source": [
        "df5 = data.reset_index()['Label']\n",
        "\n",
        "train_label = df5[:1860]\n",
        "test_label = df5[1761:]\n",
        "\n",
        "time_step = 100\n",
        "X_train_label, y_train_label = create_dataset(train_close, time_step)\n",
        "X_test_label, y_test_label = create_dataset(test_close, time_step)"
      ],
      "metadata": {
        "id": "9_Xx7yxL2NRF"
      },
      "execution_count": 43,
      "outputs": []
    },
    {
      "cell_type": "code",
      "source": [
        "def concat(array1, array2, array3, array4, array5):\n",
        "  li1 = array1.tolist()\n",
        "  li2 = array2.tolist()\n",
        "  endo=[]\n",
        "  for i in range(len(li1)):\n",
        "    final=[]\n",
        "    for j in range(len(li1[0])):\n",
        "      final.append([array1[i][j], array2[i][j], array3[i][j], array4[i][j], array5[i][j]])\n",
        "    endo.append(final)\n",
        "  return np.array(endo)\n",
        "\n"
      ],
      "metadata": {
        "id": "-KFeVSztYZTn"
      },
      "execution_count": 44,
      "outputs": []
    },
    {
      "cell_type": "code",
      "source": [
        "X_train = concat(X_train_close, X_train_score, X_train_sub, X_train_pol, X_train_label)\n",
        "X_test = concat(X_test_close, X_test_score, X_test_sub, X_test_pol, X_test_label)"
      ],
      "metadata": {
        "id": "3Nvvff7RaF9w"
      },
      "execution_count": 45,
      "outputs": []
    },
    {
      "cell_type": "code",
      "source": [
        "len(X_test)"
      ],
      "metadata": {
        "colab": {
          "base_uri": "https://localhost:8080/"
        },
        "id": "gah2zdSJ1tK3",
        "outputId": "7b056002-b41a-4fad-db70-adff0b1e9a9c"
      },
      "execution_count": 46,
      "outputs": [
        {
          "output_type": "execute_result",
          "data": {
            "text/plain": [
              "125"
            ]
          },
          "metadata": {},
          "execution_count": 46
        }
      ]
    },
    {
      "cell_type": "code",
      "source": [
        "# reshape input to be [samples, time steps, features] which is required for LSTM\n",
        "X_train =X_train.reshape(X_train.shape[0],X_train.shape[1] , 5)\n",
        "X_test = X_test.reshape(X_test.shape[0],X_test.shape[1] , 5)"
      ],
      "metadata": {
        "id": "vCsZCwLzaPSo"
      },
      "execution_count": 47,
      "outputs": []
    },
    {
      "cell_type": "code",
      "source": [
        "model=Sequential()\n",
        "model.add(LSTM(50,return_sequences=True,input_shape=(100,5)))\n",
        "model.add(LSTM(50,return_sequences=True))\n",
        "model.add(LSTM(50))\n",
        "model.add(Dense(1))\n",
        "model.compile(loss='mean_squared_error',optimizer='adam')"
      ],
      "metadata": {
        "id": "Vh9WxPB4ecDy"
      },
      "execution_count": 48,
      "outputs": []
    },
    {
      "cell_type": "code",
      "source": [
        "model.summary()"
      ],
      "metadata": {
        "colab": {
          "base_uri": "https://localhost:8080/"
        },
        "id": "NnbqbHW5aGnz",
        "outputId": "ba2533ce-56f5-4874-e168-ff16d168b115"
      },
      "execution_count": 51,
      "outputs": [
        {
          "output_type": "stream",
          "name": "stdout",
          "text": [
            "Model: \"sequential_1\"\n",
            "_________________________________________________________________\n",
            " Layer (type)                Output Shape              Param #   \n",
            "=================================================================\n",
            " lstm_3 (LSTM)               (None, 100, 50)           11200     \n",
            "                                                                 \n",
            " lstm_4 (LSTM)               (None, 100, 50)           20200     \n",
            "                                                                 \n",
            " lstm_5 (LSTM)               (None, 50)                20200     \n",
            "                                                                 \n",
            " dense_1 (Dense)             (None, 1)                 51        \n",
            "                                                                 \n",
            "=================================================================\n",
            "Total params: 51651 (201.76 KB)\n",
            "Trainable params: 51651 (201.76 KB)\n",
            "Non-trainable params: 0 (0.00 Byte)\n",
            "_________________________________________________________________\n"
          ]
        }
      ]
    },
    {
      "cell_type": "code",
      "source": [
        "# Training the model\n",
        "history = model.fit(X_train, y_train_close, validation_data=(X_test, y_test_close), epochs=100, batch_size=32, verbose=1)\n",
        "\n",
        "# Plotting the training and validation loss\n",
        "plt.plot(history.history['loss'], label='Training Loss')\n",
        "plt.plot(history.history['val_loss'], label='Validation Loss')\n",
        "plt.title('Model Loss')\n",
        "plt.xlabel('Epoch')\n",
        "plt.ylabel('Loss')\n",
        "plt.legend()\n",
        "plt.show()"
      ],
      "metadata": {
        "colab": {
          "base_uri": "https://localhost:8080/",
          "height": 1000
        },
        "id": "lprKj7UWemM8",
        "outputId": "3b9eea4d-5628-4714-b2ed-491a73b56f9e"
      },
      "execution_count": 52,
      "outputs": [
        {
          "output_type": "stream",
          "name": "stdout",
          "text": [
            "Epoch 1/100\n",
            "55/55 [==============================] - 9s 165ms/step - loss: 4.6130e-04 - val_loss: 6.3177e-04\n",
            "Epoch 2/100\n",
            "55/55 [==============================] - 7s 133ms/step - loss: 4.2701e-04 - val_loss: 6.5462e-04\n",
            "Epoch 3/100\n",
            "55/55 [==============================] - 6s 109ms/step - loss: 3.7758e-04 - val_loss: 6.1788e-04\n",
            "Epoch 4/100\n",
            "55/55 [==============================] - 11s 209ms/step - loss: 3.5150e-04 - val_loss: 5.4094e-04\n",
            "Epoch 5/100\n",
            "55/55 [==============================] - 10s 182ms/step - loss: 4.3468e-04 - val_loss: 5.7066e-04\n",
            "Epoch 6/100\n",
            "55/55 [==============================] - 10s 179ms/step - loss: 3.9947e-04 - val_loss: 9.1641e-04\n",
            "Epoch 7/100\n",
            "55/55 [==============================] - 7s 126ms/step - loss: 3.7192e-04 - val_loss: 4.9835e-04\n",
            "Epoch 8/100\n",
            "55/55 [==============================] - 9s 156ms/step - loss: 3.4922e-04 - val_loss: 5.2421e-04\n",
            "Epoch 9/100\n",
            "55/55 [==============================] - 12s 229ms/step - loss: 4.5159e-04 - val_loss: 7.5597e-04\n",
            "Epoch 10/100\n",
            "55/55 [==============================] - 10s 171ms/step - loss: 4.2876e-04 - val_loss: 0.0021\n",
            "Epoch 11/100\n",
            "55/55 [==============================] - 7s 123ms/step - loss: 4.7074e-04 - val_loss: 5.0175e-04\n",
            "Epoch 12/100\n",
            "55/55 [==============================] - 7s 128ms/step - loss: 3.5446e-04 - val_loss: 6.5059e-04\n",
            "Epoch 13/100\n",
            "55/55 [==============================] - 7s 119ms/step - loss: 3.1164e-04 - val_loss: 4.5035e-04\n",
            "Epoch 14/100\n",
            "55/55 [==============================] - 10s 175ms/step - loss: 2.9658e-04 - val_loss: 4.7482e-04\n",
            "Epoch 15/100\n",
            "55/55 [==============================] - 6s 109ms/step - loss: 3.0960e-04 - val_loss: 4.3265e-04\n",
            "Epoch 16/100\n",
            "55/55 [==============================] - 9s 165ms/step - loss: 3.1201e-04 - val_loss: 7.8256e-04\n",
            "Epoch 17/100\n",
            "55/55 [==============================] - 9s 162ms/step - loss: 3.2218e-04 - val_loss: 4.1362e-04\n",
            "Epoch 18/100\n",
            "55/55 [==============================] - 6s 109ms/step - loss: 2.7702e-04 - val_loss: 4.0058e-04\n",
            "Epoch 19/100\n",
            "55/55 [==============================] - 7s 136ms/step - loss: 2.7872e-04 - val_loss: 3.8040e-04\n",
            "Epoch 20/100\n",
            "55/55 [==============================] - 6s 110ms/step - loss: 2.7483e-04 - val_loss: 3.7103e-04\n",
            "Epoch 21/100\n",
            "55/55 [==============================] - 7s 132ms/step - loss: 3.1979e-04 - val_loss: 5.4067e-04\n",
            "Epoch 22/100\n",
            "55/55 [==============================] - 6s 111ms/step - loss: 2.9126e-04 - val_loss: 4.1486e-04\n",
            "Epoch 23/100\n",
            "55/55 [==============================] - 8s 144ms/step - loss: 2.6512e-04 - val_loss: 3.4007e-04\n",
            "Epoch 24/100\n",
            "55/55 [==============================] - 6s 109ms/step - loss: 2.3937e-04 - val_loss: 4.2732e-04\n",
            "Epoch 25/100\n",
            "55/55 [==============================] - 7s 130ms/step - loss: 2.5782e-04 - val_loss: 3.4428e-04\n",
            "Epoch 26/100\n",
            "55/55 [==============================] - 6s 113ms/step - loss: 2.6895e-04 - val_loss: 3.3942e-04\n",
            "Epoch 27/100\n",
            "55/55 [==============================] - 7s 131ms/step - loss: 2.2719e-04 - val_loss: 4.0993e-04\n",
            "Epoch 28/100\n",
            "55/55 [==============================] - 6s 109ms/step - loss: 2.5260e-04 - val_loss: 5.7894e-04\n",
            "Epoch 29/100\n",
            "55/55 [==============================] - 7s 132ms/step - loss: 2.8701e-04 - val_loss: 3.0185e-04\n",
            "Epoch 30/100\n",
            "55/55 [==============================] - 6s 110ms/step - loss: 2.2756e-04 - val_loss: 3.0778e-04\n",
            "Epoch 31/100\n",
            "55/55 [==============================] - 7s 132ms/step - loss: 2.1651e-04 - val_loss: 3.5330e-04\n",
            "Epoch 32/100\n",
            "55/55 [==============================] - 6s 109ms/step - loss: 2.5531e-04 - val_loss: 3.3787e-04\n",
            "Epoch 33/100\n",
            "55/55 [==============================] - 8s 138ms/step - loss: 1.9630e-04 - val_loss: 2.9746e-04\n",
            "Epoch 34/100\n",
            "55/55 [==============================] - 7s 119ms/step - loss: 2.0346e-04 - val_loss: 3.7736e-04\n",
            "Epoch 35/100\n",
            "55/55 [==============================] - 8s 143ms/step - loss: 2.7750e-04 - val_loss: 2.7374e-04\n",
            "Epoch 36/100\n",
            "55/55 [==============================] - 8s 155ms/step - loss: 2.0147e-04 - val_loss: 2.7471e-04\n",
            "Epoch 37/100\n",
            "55/55 [==============================] - 6s 110ms/step - loss: 1.8012e-04 - val_loss: 2.7018e-04\n",
            "Epoch 38/100\n",
            "55/55 [==============================] - 7s 131ms/step - loss: 1.7772e-04 - val_loss: 2.5531e-04\n",
            "Epoch 39/100\n",
            "55/55 [==============================] - 6s 109ms/step - loss: 1.8159e-04 - val_loss: 2.4613e-04\n",
            "Epoch 40/100\n",
            "55/55 [==============================] - 7s 132ms/step - loss: 2.0915e-04 - val_loss: 2.6542e-04\n",
            "Epoch 41/100\n",
            "55/55 [==============================] - 9s 172ms/step - loss: 1.7054e-04 - val_loss: 2.7348e-04\n",
            "Epoch 42/100\n",
            "55/55 [==============================] - 9s 155ms/step - loss: 1.6854e-04 - val_loss: 3.0633e-04\n",
            "Epoch 43/100\n",
            "55/55 [==============================] - 7s 121ms/step - loss: 2.0263e-04 - val_loss: 2.5920e-04\n",
            "Epoch 44/100\n",
            "55/55 [==============================] - 7s 122ms/step - loss: 1.6637e-04 - val_loss: 2.3748e-04\n",
            "Epoch 45/100\n",
            "55/55 [==============================] - 7s 126ms/step - loss: 1.8586e-04 - val_loss: 2.5227e-04\n",
            "Epoch 46/100\n",
            "55/55 [==============================] - 6s 115ms/step - loss: 1.6195e-04 - val_loss: 2.5402e-04\n",
            "Epoch 47/100\n",
            "55/55 [==============================] - 7s 133ms/step - loss: 1.7710e-04 - val_loss: 3.3943e-04\n",
            "Epoch 48/100\n",
            "55/55 [==============================] - 6s 110ms/step - loss: 1.6015e-04 - val_loss: 2.7908e-04\n",
            "Epoch 49/100\n",
            "55/55 [==============================] - 7s 133ms/step - loss: 1.6439e-04 - val_loss: 4.2667e-04\n",
            "Epoch 50/100\n",
            "55/55 [==============================] - 6s 110ms/step - loss: 2.4813e-04 - val_loss: 2.3180e-04\n",
            "Epoch 51/100\n",
            "55/55 [==============================] - 7s 132ms/step - loss: 1.6702e-04 - val_loss: 2.2781e-04\n",
            "Epoch 52/100\n",
            "55/55 [==============================] - 6s 113ms/step - loss: 2.2827e-04 - val_loss: 3.4786e-04\n",
            "Epoch 53/100\n",
            "55/55 [==============================] - 7s 132ms/step - loss: 1.6547e-04 - val_loss: 2.2687e-04\n",
            "Epoch 54/100\n",
            "55/55 [==============================] - 6s 113ms/step - loss: 1.7062e-04 - val_loss: 3.4368e-04\n",
            "Epoch 55/100\n",
            "55/55 [==============================] - 9s 156ms/step - loss: 1.5318e-04 - val_loss: 2.1946e-04\n",
            "Epoch 56/100\n",
            "55/55 [==============================] - 6s 110ms/step - loss: 1.5260e-04 - val_loss: 5.5107e-04\n",
            "Epoch 57/100\n",
            "55/55 [==============================] - 7s 132ms/step - loss: 1.7841e-04 - val_loss: 3.2091e-04\n",
            "Epoch 58/100\n",
            "55/55 [==============================] - 6s 110ms/step - loss: 1.8127e-04 - val_loss: 5.4154e-04\n",
            "Epoch 59/100\n",
            "55/55 [==============================] - 7s 132ms/step - loss: 1.4565e-04 - val_loss: 2.3458e-04\n",
            "Epoch 60/100\n",
            "55/55 [==============================] - 6s 111ms/step - loss: 1.4143e-04 - val_loss: 2.3171e-04\n",
            "Epoch 61/100\n",
            "55/55 [==============================] - 7s 132ms/step - loss: 1.6691e-04 - val_loss: 2.2008e-04\n",
            "Epoch 62/100\n",
            "55/55 [==============================] - 6s 110ms/step - loss: 1.7092e-04 - val_loss: 4.0618e-04\n",
            "Epoch 63/100\n",
            "55/55 [==============================] - 7s 132ms/step - loss: 2.0035e-04 - val_loss: 2.6305e-04\n",
            "Epoch 64/100\n",
            "55/55 [==============================] - 6s 110ms/step - loss: 1.5426e-04 - val_loss: 2.2062e-04\n",
            "Epoch 65/100\n",
            "55/55 [==============================] - 7s 132ms/step - loss: 1.6887e-04 - val_loss: 2.1653e-04\n",
            "Epoch 66/100\n",
            "55/55 [==============================] - 6s 113ms/step - loss: 1.4039e-04 - val_loss: 2.0934e-04\n",
            "Epoch 67/100\n",
            "55/55 [==============================] - 7s 128ms/step - loss: 1.5196e-04 - val_loss: 2.5570e-04\n",
            "Epoch 68/100\n",
            "55/55 [==============================] - 7s 121ms/step - loss: 1.3191e-04 - val_loss: 2.6548e-04\n",
            "Epoch 69/100\n",
            "55/55 [==============================] - 7s 119ms/step - loss: 1.6080e-04 - val_loss: 2.6411e-04\n",
            "Epoch 70/100\n",
            "55/55 [==============================] - 7s 125ms/step - loss: 2.0318e-04 - val_loss: 5.5542e-04\n",
            "Epoch 71/100\n",
            "55/55 [==============================] - 6s 114ms/step - loss: 1.6981e-04 - val_loss: 2.2376e-04\n",
            "Epoch 72/100\n",
            "55/55 [==============================] - 7s 132ms/step - loss: 1.3383e-04 - val_loss: 2.1026e-04\n",
            "Epoch 73/100\n",
            "55/55 [==============================] - 6s 110ms/step - loss: 1.5671e-04 - val_loss: 2.9204e-04\n",
            "Epoch 74/100\n",
            "55/55 [==============================] - 7s 137ms/step - loss: 1.7714e-04 - val_loss: 5.1384e-04\n",
            "Epoch 75/100\n",
            "55/55 [==============================] - 7s 128ms/step - loss: 1.9270e-04 - val_loss: 2.5865e-04\n",
            "Epoch 76/100\n",
            "55/55 [==============================] - 7s 132ms/step - loss: 1.3375e-04 - val_loss: 2.2258e-04\n",
            "Epoch 77/100\n",
            "55/55 [==============================] - 6s 109ms/step - loss: 1.7672e-04 - val_loss: 2.2841e-04\n",
            "Epoch 78/100\n",
            "55/55 [==============================] - 7s 132ms/step - loss: 1.4213e-04 - val_loss: 2.4812e-04\n",
            "Epoch 79/100\n",
            "55/55 [==============================] - 6s 110ms/step - loss: 1.2933e-04 - val_loss: 2.3349e-04\n",
            "Epoch 80/100\n",
            "55/55 [==============================] - 7s 131ms/step - loss: 1.4213e-04 - val_loss: 7.2863e-04\n",
            "Epoch 81/100\n",
            "55/55 [==============================] - 6s 111ms/step - loss: 1.6246e-04 - val_loss: 5.3320e-04\n",
            "Epoch 82/100\n",
            "55/55 [==============================] - 7s 132ms/step - loss: 1.5761e-04 - val_loss: 2.1898e-04\n",
            "Epoch 83/100\n",
            "55/55 [==============================] - 6s 110ms/step - loss: 1.5291e-04 - val_loss: 2.0389e-04\n",
            "Epoch 84/100\n",
            "55/55 [==============================] - 7s 131ms/step - loss: 1.2267e-04 - val_loss: 2.1537e-04\n",
            "Epoch 85/100\n",
            "55/55 [==============================] - 6s 113ms/step - loss: 1.5149e-04 - val_loss: 2.0731e-04\n",
            "Epoch 86/100\n",
            "55/55 [==============================] - 9s 165ms/step - loss: 1.5368e-04 - val_loss: 5.7714e-04\n",
            "Epoch 87/100\n",
            "55/55 [==============================] - 7s 132ms/step - loss: 1.5167e-04 - val_loss: 2.2422e-04\n",
            "Epoch 88/100\n",
            "55/55 [==============================] - 6s 110ms/step - loss: 1.4266e-04 - val_loss: 2.5263e-04\n",
            "Epoch 89/100\n",
            "55/55 [==============================] - 8s 141ms/step - loss: 1.2739e-04 - val_loss: 2.3070e-04\n",
            "Epoch 90/100\n",
            "55/55 [==============================] - 6s 109ms/step - loss: 1.4675e-04 - val_loss: 2.4678e-04\n",
            "Epoch 91/100\n",
            "55/55 [==============================] - 7s 134ms/step - loss: 1.3356e-04 - val_loss: 3.3111e-04\n",
            "Epoch 92/100\n",
            "55/55 [==============================] - 6s 111ms/step - loss: 1.7968e-04 - val_loss: 2.2458e-04\n",
            "Epoch 93/100\n",
            "55/55 [==============================] - 7s 132ms/step - loss: 1.3349e-04 - val_loss: 2.0807e-04\n",
            "Epoch 94/100\n",
            "55/55 [==============================] - 7s 134ms/step - loss: 1.3055e-04 - val_loss: 2.3272e-04\n",
            "Epoch 95/100\n",
            "55/55 [==============================] - 7s 131ms/step - loss: 1.2792e-04 - val_loss: 2.0809e-04\n",
            "Epoch 96/100\n",
            "55/55 [==============================] - 6s 118ms/step - loss: 1.3819e-04 - val_loss: 3.9078e-04\n",
            "Epoch 97/100\n",
            "55/55 [==============================] - 7s 124ms/step - loss: 1.4732e-04 - val_loss: 2.1155e-04\n",
            "Epoch 98/100\n",
            "55/55 [==============================] - 7s 126ms/step - loss: 1.2341e-04 - val_loss: 2.0342e-04\n",
            "Epoch 99/100\n",
            "55/55 [==============================] - 6s 116ms/step - loss: 1.4750e-04 - val_loss: 2.6157e-04\n",
            "Epoch 100/100\n",
            "55/55 [==============================] - 7s 131ms/step - loss: 1.3114e-04 - val_loss: 2.8884e-04\n"
          ]
        },
        {
          "output_type": "display_data",
          "data": {
            "text/plain": [
              "<Figure size 640x480 with 1 Axes>"
            ],
            "image/png": "[encoded data removed]"
          },
          "metadata": {}
        }
      ]
    },
    {
      "cell_type": "code",
      "source": [
        "test_pred = model.predict(X_test)\n",
        "test_pred = scaler.inverse_transform(test_pred)\n",
        "print(len(test_pred))\n"
      ],
      "metadata": {
        "colab": {
          "base_uri": "https://localhost:8080/"
        },
        "id": "fkoqA1roSo9G",
        "outputId": "afef876c-b63b-45f5-b6d3-5821fc65e9ed"
      },
      "execution_count": 53,
      "outputs": [
        {
          "output_type": "stream",
          "name": "stdout",
          "text": [
            "4/4 [==============================] - 1s 37ms/step\n",
            "125\n"
          ]
        }
      ]
    },
    {
      "cell_type": "code",
      "source": [
        "final = data.reset_index()['Close']\n",
        "test_tr = final[1860:]"
      ],
      "metadata": {
        "id": "mqutlO3W4wix"
      },
      "execution_count": 54,
      "outputs": []
    },
    {
      "cell_type": "code",
      "source": [
        "print(len(test_tr))"
      ],
      "metadata": {
        "colab": {
          "base_uri": "https://localhost:8080/"
        },
        "id": "2rzve6VDTU0V",
        "outputId": "7ad787e2-1d06-44c2-e003-e4dc6c932232"
      },
      "execution_count": 55,
      "outputs": [
        {
          "output_type": "stream",
          "name": "stdout",
          "text": [
            "126\n"
          ]
        }
      ]
    },
    {
      "cell_type": "code",
      "source": [
        "test_tr = test_tr.tolist()"
      ],
      "metadata": {
        "id": "gBDQBuZ9wok7"
      },
      "execution_count": 56,
      "outputs": []
    },
    {
      "cell_type": "code",
      "source": [
        "import matplotlib.pyplot as plt\n",
        "\n",
        "# Assuming 'test_true' and 'test_predict' are your lists of true and predicted values\n",
        "\n",
        "# Plot true values\n",
        "plt.plot(test_tr, label='True Values', color='blue')\n",
        "\n",
        "# Plot predicted values\n",
        "plt.plot(test_pred, label='Predicted Values', color='red')\n",
        "\n",
        "# Add labels and title\n",
        "plt.xlabel('Index')\n",
        "plt.ylabel('Value')\n",
        "plt.title('True vs. Predicted Values')\n",
        "\n",
        "# Add legend\n",
        "plt.legend()\n",
        "\n",
        "# Show plot\n",
        "plt.show()"
      ],
      "metadata": {
        "colab": {
          "base_uri": "https://localhost:8080/",
          "height": 472
        },
        "id": "YR117fQxfczI",
        "outputId": "a664e54c-bd39-4189-f79f-45742b502944"
      },
      "execution_count": 57,
      "outputs": [
        {
          "output_type": "display_data",
          "data": {
            "text/plain": [
              "<Figure size 640x480 with 1 Axes>"
            ],
            "image/png": "[encoded data removed]"
          },
          "metadata": {}
        }
      ]
    },
    {
      "cell_type": "code",
      "source": [
        "final_2 = data.reset_index()['Close']"
      ],
      "metadata": {
        "id": "Vk_DGsrDAVv7"
      },
      "execution_count": 58,
      "outputs": []
    },
    {
      "cell_type": "markdown",
      "source": [
        "## Comparing the predictions with the actual price"
      ],
      "metadata": {
        "id": "65MbyiUuayUb"
      }
    },
    {
      "cell_type": "code",
      "source": [
        "for i in range(125):\n",
        "  print(test_tr[i], \" \", test_pred[i][0])"
      ],
      "metadata": {
        "colab": {
          "base_uri": "https://localhost:8080/"
        },
        "id": "QozJUyB1_Zxd",
        "outputId": "2bdfa880-4e9f-4dad-bc9b-540151c26004"
      },
      "execution_count": 61,
      "outputs": [
        {
          "output_type": "stream",
          "name": "stdout",
          "text": [
            "17148.93945   17030.584\n",
            "17158.66016   17091.271\n",
            "16906.50977   16790.502\n",
            "16514.09961   16443.002\n",
            "16346.4502   16295.582\n",
            "16398.57031   16385.01\n",
            "16516.2207   16507.352\n",
            "16151.41016   16125.181\n",
            "16379.04981   16351.94\n",
            "15988.08008   15918.301\n",
            "16016.01953   15970.865\n",
            "15766.74023   15742.698\n",
            "15882.67969   15888.576\n",
            "16093.50977   16051.813\n",
            "15885.21973   15820.696\n",
            "16167.23047   16102.313\n",
            "15944.45996   15870.339\n",
            "16069.63965   16022.938\n",
            "16466.30078   16430.662\n",
            "16449.17969   16399.305\n",
            "16153.54004   16123.123\n",
            "16336.66016   16272.236\n",
            "16416.58008   16375.034\n",
            "16204.96973   16185.452\n",
            "16027.04981   16003.464\n",
            "16014.37988   16000.077\n",
            "15914.74023   15890.404\n",
            "15660.17969   15620.935\n",
            "15973.83984   15973.391\n",
            "16196.41016   16155.129\n",
            "16453.83008   16424.371\n",
            "16413.42969   16340.949\n",
            "16391.99023   16324.968\n",
            "16620.66016   16530.072\n",
            "16431.7793   16368.951\n",
            "16484.99023   16425.402\n",
            "16697.28906   16625.863\n",
            "16639.9707   16547.588\n",
            "16516.5   16424.3\n",
            "16865.08008   16769.89\n",
            "16899.32031   16760.787\n",
            "16943.90039   16822.168\n",
            "17006.76953   16887.35\n",
            "17073.94922   16950.656\n",
            "16964.09961   16852.74\n",
            "17000.35938   16925.834\n",
            "16995.13086   16890.838\n",
            "17213.31055   17087.145\n",
            "17229.13086   17111.291\n",
            "17251.5293   17144.219\n",
            "17325.75977   17232.062\n",
            "17481.49023   17355.188\n",
            "17602.30078   17474.05\n",
            "17623.86914   17453.207\n",
            "17582.57031   17439.668\n",
            "17502.58984   17344.518\n",
            "17515.73047   17360.365\n",
            "17535.39063   17375.156\n",
            "17633.10938   17479.383\n",
            "17716.66016   17570.686\n",
            "17685.08984   17538.592\n",
            "17792.75   17619.432\n",
            "17737.0   17559.898\n",
            "17603.32031   17448.154\n",
            "17716.05078   17589.023\n",
            "17541.96094   17380.176\n",
            "17576.96094   17430.057\n",
            "17556.41016   17418.43\n",
            "17721.25   17597.32\n",
            "17908.2793   17769.479\n",
            "17926.42969   17748.852\n",
            "17897.46094   17741.318\n",
            "18004.16016   17878.877\n",
            "18053.59961   17918.662\n",
            "18096.26953   17955.336\n",
            "17982.51953   17848.855\n",
            "18003.75   17879.684\n",
            "17977.24023   17815.799\n",
            "17990.32031   17854.154\n",
            "18041.55078   17918.902\n",
            "17830.75977   17677.82\n",
            "17773.64063   17692.959\n",
            "17891.16016   17752.846\n",
            "17750.91016   17623.264\n",
            "17651.25977   17562.79\n",
            "17660.71094   17563.344\n",
            "17740.63086   17620.182\n",
            "17705.91016   17582.418\n",
            "17928.34961   17836.018\n",
            "17711.11914   17580.443\n",
            "17720.5   17632.803\n",
            "17535.32031   17430.06\n",
            "17710.71094   17630.238\n",
            "17529.98047   17456.445\n",
            "17526.61914   17457.28\n",
            "17435.40039   17378.559\n",
            "17500.93945   17430.752\n",
            "17492.92969   17399.701\n",
            "17706.05078   17586.318\n",
            "17851.50977   17685.701\n",
            "17828.28906   17669.78\n",
            "17873.2207   17720.701\n",
            "17787.19922   17643.027\n",
            "17789.66992   17664.75\n",
            "17838.56055   17702.531\n",
            "17807.06055   17677.447\n",
            "17920.33008   17791.803\n",
            "17938.2793   17793.4\n",
            "18005.05078   17878.912\n",
            "17985.18945   17844.691\n",
            "17865.33984   17749.623\n",
            "17732.48047   17615.16\n",
            "17674.82031   17568.545\n",
            "17640.16992   17525.605\n",
            "17733.09961   17613.508\n",
            "17675.16016   17527.477\n",
            "17804.86914   17642.037\n",
            "17829.73047   17628.6\n",
            "17780.83008   17636.965\n",
            "18011.07031   17879.104\n",
            "17400.75   17269.99\n",
            "17140.24023   17098.865\n",
            "17409.7207   17337.955\n",
            "17694.67969   17608.354\n",
            "17929.99023   17795.715\n"
          ]
        }
      ]
    },
    {
      "cell_type": "markdown",
      "source": [
        "## Evaluation"
      ],
      "metadata": {
        "id": "nUffsP-ChJdO"
      }
    },
    {
      "cell_type": "code",
      "source": [
        "rmse = 0\n",
        "for i in range(125):\n",
        "  rmse = rmse + (test_tr[i] - test_pred[i][0])**2\n",
        "print(sqrt(rmse/125))"
      ],
      "metadata": {
        "colab": {
          "base_uri": "https://localhost:8080/"
        },
        "id": "bIDkKxg7uaco",
        "outputId": "2f336c89-d7be-4a67-a663-55cd19bd06aa"
      },
      "execution_count": 65,
      "outputs": [
        {
          "output_type": "stream",
          "name": "stdout",
          "text": [
            "112.37279067468404\n"
          ]
        }
      ]
    },
    {
      "cell_type": "code",
      "source": [
        "from sklearn.metrics import r2_score\n",
        "\n",
        "r2 = r2_score(test_pred, test_tr[:125])"
      ],
      "metadata": {
        "id": "VyJmcLtB-5c4"
      },
      "execution_count": 71,
      "outputs": []
    },
    {
      "cell_type": "code",
      "source": [
        "print(r2)"
      ],
      "metadata": {
        "colab": {
          "base_uri": "https://localhost:8080/"
        },
        "id": "iQI5U1XHgPjB",
        "outputId": "846eda73-72e2-4ff7-c1bf-33105f387f9d"
      },
      "execution_count": 72,
      "outputs": [
        {
          "output_type": "stream",
          "name": "stdout",
          "text": [
            "0.970837936308454\n"
          ]
        }
      ]
    },
    {
      "cell_type": "code",
      "source": [],
      "metadata": {
        "id": "fJ7OtOUkggpX"
      },
      "execution_count": null,
      "outputs": []
    }
  ]
}