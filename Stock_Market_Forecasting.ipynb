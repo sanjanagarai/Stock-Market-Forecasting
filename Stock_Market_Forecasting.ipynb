{
  "nbformat": 4,
  "nbformat_minor": 0,
  "metadata": {
    "colab": {
      "provenance": [],
      "include_colab_link": true
    },
    "kernelspec": {
      "name": "python3",
      "display_name": "Python 3"
    },
    "language_info": {
      "name": "python"
    }
  },
  "cells": [
    {
      "cell_type": "markdown",
      "metadata": {
        "id": "view-in-github",
        "colab_type": "text"
      },
      "source": [
        "<a href=\"https://colab.research.google.com/github/sanjanagarai/Stock-Market-Forecasting/blob/main/Stock_Market_Forecasting.ipynb\" target=\"_parent\"><img src=\"https://colab.research.google.com/assets/colab-badge.svg\" alt=\"Open In Colab\"/></a>"
      ]
    },
    {
      "cell_type": "markdown",
      "source": [
        "## Importing Important Modules"
      ],
      "metadata": {
        "id": "kNBmk_r6W3sr"
      }
    },
    {
      "cell_type": "code",
      "source": [
        "import pandas as pd\n",
        "import numpy as np\n",
        "import matplotlib.pyplot as plt\n",
        "from sklearn.preprocessing import MinMaxScaler\n",
        "### Create the Stacked LSTM model\n",
        "from tensorflow.keras.models import Sequential\n",
        "from tensorflow.keras.layers import Dense\n",
        "from tensorflow.keras.layers import LSTM"
      ],
      "metadata": {
        "id": "n7-e6SQdV9Gc"
      },
      "execution_count": null,
      "outputs": []
    },
    {
      "cell_type": "code",
      "source": [
        "data = pd.read_csv(\"/content/Combined_News_DJIA(train).csv\")\n",
        "stock_data = pd.read_csv(\"/content/Test_DJIA_Table.csv\")"
      ],
      "metadata": {
        "id": "VCQF49eyXlHU"
      },
      "execution_count": null,
      "outputs": []
    },
    {
      "cell_type": "code",
      "source": [
        "# Initialize an empty list to store close values\n",
        "close_values = []\n",
        "\n",
        "# Iterate over the rows of stock_data in reverse order\n",
        "for index, row in stock_data[::-1].iterrows():\n",
        "    close_values.append(row['Adj Close'])\n",
        "\n",
        "data['Close'] = close_values"
      ],
      "metadata": {
        "id": "SOD5beT0XaVY"
      },
      "execution_count": null,
      "outputs": []
    },
    {
      "cell_type": "markdown",
      "source": [
        "## Data preprocessing"
      ],
      "metadata": {
        "id": "Y7SKVTOtW8jm"
      }
    },
    {
      "cell_type": "code",
      "source": [
        "# Check for NaN values in the dataset\n",
        "print(\"Rows with NaN values before dropping:\")\n",
        "rows_with_nan_before = data[data.isnull().any(axis=1)]\n",
        "print(rows_with_nan_before)\n",
        "\n",
        "# Drop rows with NaN values\n",
        "data.dropna(inplace=True)\n",
        "\n",
        "# Print the row indices that are being dropped\n",
        "print(\"Indices of rows being dropped:\")\n",
        "print(rows_with_nan_before.index)"
      ],
      "metadata": {
        "colab": {
          "base_uri": "https://localhost:8080/"
        },
        "id": "GLsIRc6uIRKL",
        "outputId": "07439931-ecdf-45a0-f5f9-1c8f2b5f79cf"
      },
      "execution_count": null,
      "outputs": [
        {
          "output_type": "stream",
          "name": "stdout",
          "text": [
            "Rows with NaN values before dropping:\n",
            "           Date  Label                                               Top1  \\\n",
            "277  2009-09-15      1  b'The Church of Scientology won\\'t be dissolve...   \n",
            "348  2009-12-24      1  b'Woman knocks down Pope Benedict at Christmas...   \n",
            "681  2011-04-21      1  Director of \"Restrepo\" and Photographer Chris ...   \n",
            "\n",
            "                                                  Top2  \\\n",
            "277  b'New virus from rats can kill 80 per cent of ...   \n",
            "348  b'Ugandan President Museveni says he will bloc...   \n",
            "681  Everyone within 20km of Fukushima will be forc...   \n",
            "\n",
            "                                                  Top3  \\\n",
            "277  b'The gruesome spectacle of dolphins being sla...   \n",
            "348  b\"Venezuela's Chavez threatens to kick out car...   \n",
            "681  Bahrain: Activist Zaynab Al-Khawaja's letter t...   \n",
            "\n",
            "                                                  Top4  \\\n",
            "277  b'The End of Innocence in Afghanistan: \\'The G...   \n",
            "348  b'Woman who knocked down pope had pasta in her...   \n",
            "681  More than 80,000 people are claiming incapacit...   \n",
            "\n",
            "                                                  Top5  \\\n",
            "277            b'France approves Internet piracy bill'   \n",
            "348  b'450 people from 21 countries, including 30 f...   \n",
            "681  Libya: 'mission creep' claims as UK sends in m...   \n",
            "\n",
            "                                                  Top6  \\\n",
            "277  b'The Rural Doctors Association says right now...   \n",
            "348  b'Chvez declares Angel Falls is no more: World...   \n",
            "681  Japan considers banning access to evacuation zone   \n",
            "\n",
            "                                                  Top7  \\\n",
            "277  b'Al Jazeera English - Africa - Shabab to aven...   \n",
            "348             b'Drug tests catch out 10 police (UK)'   \n",
            "681  Chinese oil giant Sinopec has stopped exportin...   \n",
            "\n",
            "                                                  Top8  ...  \\\n",
            "277  b\"How Sri Lanka governs through detentions - S...  ...   \n",
            "348  b'Once the worlds fourth-largest lake, the Ara...  ...   \n",
            "681  6.0-magnitude earthquake strikes off east coas...  ...   \n",
            "\n",
            "                                                 Top17  \\\n",
            "277  b'UPDATE: 5-New York homes raided in terrorism...   \n",
            "348  b'Bin Laden daughter flees to Saudi embassy in...   \n",
            "681  Small amounts of radioactive iodine found in b...   \n",
            "\n",
            "                                                 Top18  \\\n",
            "277  b'Population Growth Impeding Progress on the M...   \n",
            "348  b'Traumatic Brain Injuries:  Growing evidence ...   \n",
            "681  War photographer, Oscar-nominated film directo...   \n",
            "\n",
            "                                                 Top19  \\\n",
            "277    b'Global Population to Reach 7 Billion by 2011'   \n",
            "348  b'The Pakistan Supreme Court has ordered the P...   \n",
            "681  Effeminate boys are being sent to a special ca...   \n",
            "\n",
            "                                                 Top20  \\\n",
            "277                b'Government Funded Feminist Porn '   \n",
            "348  b\"Here's a video the Taliban released this mor...   \n",
            "681  Japan Government Declares 12-Mile Area Around ...   \n",
            "\n",
            "                                                 Top21  \\\n",
            "277  b'Can someone enlighten me re:Holy Land disput...   \n",
            "348               b'Fireworks set off aboard airliner'   \n",
            "681  TEPCO admitted Wednesday that nuclear fuel in ...   \n",
            "\n",
            "                                                 Top22  \\\n",
            "277  b'Human Rights Watch official suspended for co...   \n",
            "348  b'Five VA men may face terrorism charges, Paki...   \n",
            "681  Fukushima evacuees face arrest if they return ...   \n",
            "\n",
            "                                                 Top23 Top24 Top25  \\\n",
            "277                                                NaN   NaN   NaN   \n",
            "348  b\"Ayatollah Montazeri's Legacy:  In death he m...   NaN   NaN   \n",
            "681          Prince Charles wins some kind of a record   NaN   NaN   \n",
            "\n",
            "            Close  \n",
            "277   9683.410156  \n",
            "348  10520.089840  \n",
            "681  12505.990230  \n",
            "\n",
            "[3 rows x 28 columns]\n",
            "Indices of rows being dropped:\n",
            "Int64Index([277, 348, 681], dtype='int64')\n"
          ]
        }
      ]
    },
    {
      "cell_type": "markdown",
      "source": [
        "The rows with indices 277, 348 and 681 have been dropped"
      ],
      "metadata": {
        "id": "VxyNeWpcJEwZ"
      }
    },
    {
      "cell_type": "code",
      "source": [
        "# Define a function to preprocess strings\n",
        "def preprocess_string(s):\n",
        "    if isinstance(s, str):\n",
        "        if s.startswith(\"b\\\"\") or s.startswith(\"b'\"):\n",
        "            s = s[2:]\n",
        "        if s.endswith('\"') or s.endswith(\"'\"):\n",
        "            s = s[:-1]\n",
        "    return s\n",
        "\n",
        "# Apply the preprocessing function to the 'Top' columns\n",
        "for col in data.columns:\n",
        "    if col.startswith('Top'):\n",
        "        data[col] = data[col].apply(preprocess_string)"
      ],
      "metadata": {
        "id": "RQry7w3wXxJD"
      },
      "execution_count": null,
      "outputs": []
    },
    {
      "cell_type": "code",
      "source": [
        "# Define a function to preprocess strings\n",
        "def preprocess_string(s):\n",
        "    if isinstance(s, str):\n",
        "        if s.startswith(\"\\\"\") or s.startswith(\"'\"):\n",
        "            s = s[1:]\n",
        "        if s.endswith('\"') or s.endswith(\"'\"):\n",
        "            s = s[:-1]\n",
        "    return s\n",
        "\n",
        "# Apply the preprocessing function to the 'Top' columns\n",
        "for col in data.columns:\n",
        "    if col.startswith('Top'):\n",
        "        data[col] = data[col].apply(preprocess_string)"
      ],
      "metadata": {
        "id": "4rrLULFcX3eS"
      },
      "execution_count": null,
      "outputs": []
    },
    {
      "cell_type": "markdown",
      "source": [
        "## Sentiment Analysis"
      ],
      "metadata": {
        "id": "n-DKCkj2W_0e"
      }
    },
    {
      "cell_type": "markdown",
      "source": [
        "We use VADER to determine the average compound score"
      ],
      "metadata": {
        "id": "gt4QYkH8XCvU"
      }
    },
    {
      "cell_type": "code",
      "source": [
        "import nltk\n",
        "nltk.download('vader_lexicon')"
      ],
      "metadata": {
        "colab": {
          "base_uri": "https://localhost:8080/"
        },
        "id": "yJF9siStX5_t",
        "outputId": "346b10ab-42e2-4c16-8e7a-a8bc69f18e22"
      },
      "execution_count": null,
      "outputs": [
        {
          "output_type": "stream",
          "name": "stderr",
          "text": [
            "[nltk_data] Downloading package vader_lexicon to /root/nltk_data...\n",
            "[nltk_data]   Package vader_lexicon is already up-to-date!\n"
          ]
        },
        {
          "output_type": "execute_result",
          "data": {
            "text/plain": [
              "True"
            ]
          },
          "metadata": {},
          "execution_count": 8
        }
      ]
    },
    {
      "cell_type": "code",
      "source": [
        "from nltk.sentiment.vader import SentimentIntensityAnalyzer\n",
        "\n",
        "# Initialize the VADER sentiment analyzer\n",
        "sid = SentimentIntensityAnalyzer()"
      ],
      "metadata": {
        "id": "hmU2owPxZzKi"
      },
      "execution_count": null,
      "outputs": []
    },
    {
      "cell_type": "code",
      "source": [
        "# Initialize lists to store average sentiment scores for each day\n",
        "avg_compound = []\n",
        "\n",
        "# Iterate through each row of the DataFrame\n",
        "for index, row in data.iterrows():\n",
        "    com = 0\n",
        "\n",
        "    # Iterate through the entries of columns 2 to 27 for this row\n",
        "    for col in row[2:27]:\n",
        "        # Calculate sentiment scores for each entry\n",
        "        scores = sid.polarity_scores(col)\n",
        "        com += scores['compound']\n",
        "\n",
        "    # Divide pos, neg, and neu by 25 to get the average sentiment scores for each day\n",
        "    avg_compound.append(com / 25)\n",
        "\n",
        "# Add average sentiment scores to the DataFrame\n",
        "data['avg_compound'] = avg_compound\n"
      ],
      "metadata": {
        "id": "Uyn2hvsgX8Aq"
      },
      "execution_count": null,
      "outputs": []
    },
    {
      "cell_type": "markdown",
      "source": [
        "We use TextBlob to determine the average polarity and subjectivity"
      ],
      "metadata": {
        "id": "QQVVvWxKXGXw"
      }
    },
    {
      "cell_type": "code",
      "source": [
        "from textblob import TextBlob"
      ],
      "metadata": {
        "id": "_ErEoNJUYCIN"
      },
      "execution_count": null,
      "outputs": []
    },
    {
      "cell_type": "code",
      "source": [
        "# Initialize lists to store average sentiment scores for each day\n",
        "avg_sub = []\n",
        "avg_pol = []\n",
        "\n",
        "# Iterate through each row of the DataFrame\n",
        "for index, row in data.iterrows():\n",
        "    # Initialize variables to store sentiment scores for this row\n",
        "    sub = 0\n",
        "    pol = 0\n",
        "\n",
        "    # Iterate through the entries of columns 2 to 27 for this row\n",
        "    for col in row[2:27]:\n",
        "        # Calculate sentiment scores for each entry\n",
        "        blob = TextBlob(col)\n",
        "        sub += blob.sentiment.subjectivity\n",
        "        pol += blob.sentiment.polarity\n",
        "\n",
        "    # Divide pos, neg, and neu by 25 to get the average sentiment scores for each day\n",
        "    avg_sub.append(sub / 25)\n",
        "    avg_pol.append(pol / 25)\n",
        "\n",
        "\n",
        "# Add average sentiment scores to the DataFrame\n",
        "data['avg_subjectivity'] = avg_sub\n",
        "data['avg_polarity'] = avg_pol"
      ],
      "metadata": {
        "id": "-FiAltJrYDmI"
      },
      "execution_count": null,
      "outputs": []
    },
    {
      "cell_type": "code",
      "source": [
        "# Drop the columns named 'Top1' through 'Top25'\n",
        "#data.drop(columns=['Top'+str(i) for i in range(1, 26)], inplace=True)\n",
        "\n",
        "def create_dataset(dataset, time_step=1):\n",
        "\tdataX, dataY = [], []\n",
        "\tfor i in range(len(dataset)-time_step):\n",
        "\t\ta = dataset[i:(i+time_step), 0]   ###i=0, 0,1,2,3-----99   100\n",
        "\t\tdataX.append(a)\n",
        "\t\tdataY.append(dataset[i + time_step, 0])\n",
        "\treturn np.array(dataX), np.array(dataY)"
      ],
      "metadata": {
        "id": "WE6DpGLrYH2S"
      },
      "execution_count": null,
      "outputs": []
    },
    {
      "cell_type": "markdown",
      "source": [
        "## Creating the test and train datasets"
      ],
      "metadata": {
        "id": "g7hQLD_IXN0k"
      }
    },
    {
      "cell_type": "code",
      "source": [
        "df1 = data.reset_index()['Close']\n",
        "scaler=MinMaxScaler(feature_range=(0,1))\n",
        "df1=scaler.fit_transform(np.array(df1).reshape(-1,1))\n",
        "\n",
        "train_close = df1\n",
        "test_close = df1[1760:]\n",
        "\n",
        "time_step = 100\n",
        "X_train_close, y_train_close = create_dataset(train_close, time_step)\n",
        "X_test_close, y_test_close = create_dataset(test_close, time_step)"
      ],
      "metadata": {
        "id": "8flrK3UvYjk5"
      },
      "execution_count": null,
      "outputs": []
    },
    {
      "cell_type": "code",
      "source": [
        "df2 = data.reset_index()['avg_compound']\n",
        "df2 = np.array(df2).reshape(-1,1)\n",
        "\n",
        "train_score = df2\n",
        "test_score = df2[1760:]\n",
        "\n",
        "time_step = 100\n",
        "X_train_score, y_train_score = create_dataset(train_score, time_step)\n",
        "X_test_score, y_test_score = create_dataset(test_score, time_step)"
      ],
      "metadata": {
        "id": "URCelhvEYXCO"
      },
      "execution_count": null,
      "outputs": []
    },
    {
      "cell_type": "code",
      "source": [
        "df3 = data.reset_index()['avg_subjectivity']\n",
        "df3 = np.array(df3).reshape(-1,1)\n",
        "\n",
        "train_sub = df3\n",
        "test_sub = df3[1760:]\n",
        "\n",
        "time_step = 100\n",
        "X_train_sub, y_train_sub = create_dataset(train_sub, time_step)\n",
        "X_test_sub, y_test_sub = create_dataset(test_sub, time_step)"
      ],
      "metadata": {
        "id": "xUJ0osDCgB8g"
      },
      "execution_count": null,
      "outputs": []
    },
    {
      "cell_type": "code",
      "source": [
        "df4 = data.reset_index()['avg_polarity']\n",
        "df4 = np.array(df4).reshape(-1,1)\n",
        "\n",
        "train_pol = df4\n",
        "test_pol = df4[1760:]\n",
        "\n",
        "time_step = 100\n",
        "X_train_pol, y_train_pol = create_dataset(train_pol, time_step)\n",
        "X_test_pol, y_test_pol = create_dataset(test_pol, time_step)"
      ],
      "metadata": {
        "id": "VSguxPQbgiVn"
      },
      "execution_count": null,
      "outputs": []
    },
    {
      "cell_type": "code",
      "source": [
        "df5 = data.reset_index()['Label']\n",
        "\n",
        "train_label = df5\n",
        "test_label = df5[1760:]\n",
        "\n",
        "time_step = 100\n",
        "X_train_label, y_train_label = create_dataset(train_close, time_step)\n",
        "X_test_label, y_test_label = create_dataset(test_close, time_step)"
      ],
      "metadata": {
        "id": "9_Xx7yxL2NRF"
      },
      "execution_count": null,
      "outputs": []
    },
    {
      "cell_type": "code",
      "source": [
        "def concat(array1, array2, array3, array4, array5):\n",
        "  li1 = array1.tolist()\n",
        "  li2 = array2.tolist()\n",
        "  endo=[]\n",
        "  for i in range(len(li1)):\n",
        "    final=[]\n",
        "    for j in range(len(li1[0])):\n",
        "      final.append([array1[i][j], array2[i][j], array3[i][j], array4[i][j], array5[i][j]])\n",
        "    endo.append(final)\n",
        "  return np.array(endo)\n",
        "\n"
      ],
      "metadata": {
        "id": "-KFeVSztYZTn"
      },
      "execution_count": null,
      "outputs": []
    },
    {
      "cell_type": "code",
      "source": [
        "X_train = concat(X_train_close, X_train_score, X_train_sub, X_train_pol, X_train_label)\n",
        "X_test = concat(X_test_close, X_test_score, X_test_sub, X_test_pol, X_test_label)"
      ],
      "metadata": {
        "id": "3Nvvff7RaF9w"
      },
      "execution_count": null,
      "outputs": []
    },
    {
      "cell_type": "code",
      "source": [
        "len(X_test)"
      ],
      "metadata": {
        "colab": {
          "base_uri": "https://localhost:8080/"
        },
        "id": "gah2zdSJ1tK3",
        "outputId": "f0edcfa8-95f6-487b-a877-900dd970c968"
      },
      "execution_count": null,
      "outputs": [
        {
          "output_type": "execute_result",
          "data": {
            "text/plain": [
              "126"
            ]
          },
          "metadata": {},
          "execution_count": 59
        }
      ]
    },
    {
      "cell_type": "code",
      "source": [
        "# reshape input to be [samples, time steps, features] which is required for LSTM\n",
        "X_train =X_train.reshape(X_train.shape[0],X_train.shape[1] , 5)\n",
        "X_test = X_test.reshape(X_test.shape[0],X_test.shape[1] , 5)"
      ],
      "metadata": {
        "id": "vCsZCwLzaPSo"
      },
      "execution_count": null,
      "outputs": []
    },
    {
      "cell_type": "markdown",
      "source": [
        "LSTM Model"
      ],
      "metadata": {
        "id": "vRLZUHOpXSQ6"
      }
    },
    {
      "cell_type": "code",
      "source": [
        "model=Sequential()\n",
        "model.add(LSTM(50,return_sequences=True,input_shape=(100,5)))\n",
        "model.add(LSTM(50,return_sequences=True))\n",
        "model.add(LSTM(50))\n",
        "model.add(Dense(1))\n",
        "model.compile(loss='mean_squared_error',optimizer='adam')"
      ],
      "metadata": {
        "id": "Vh9WxPB4ecDy"
      },
      "execution_count": null,
      "outputs": []
    },
    {
      "cell_type": "markdown",
      "source": [
        "## Training the model"
      ],
      "metadata": {
        "id": "NqIqbzciXTpy"
      }
    },
    {
      "cell_type": "code",
      "source": [
        "model.fit(X_train,y_train_close,validation_data=(X_test,y_test_close),epochs=100,batch_size=32,verbose=1)"
      ],
      "metadata": {
        "colab": {
          "base_uri": "https://localhost:8080/"
        },
        "id": "lprKj7UWemM8",
        "outputId": "7e308d78-cc19-42f4-b092-7c6dc257ccde"
      },
      "execution_count": null,
      "outputs": [
        {
          "output_type": "stream",
          "name": "stdout",
          "text": [
            "Epoch 1/100\n",
            "59/59 [==============================] - 18s 189ms/step - loss: 0.0267 - val_loss: 0.0016\n",
            "Epoch 2/100\n",
            "59/59 [==============================] - 10s 169ms/step - loss: 7.8040e-04 - val_loss: 0.0015\n",
            "Epoch 3/100\n",
            "59/59 [==============================] - 11s 187ms/step - loss: 7.6820e-04 - val_loss: 0.0015\n",
            "Epoch 4/100\n",
            "59/59 [==============================] - 8s 134ms/step - loss: 7.3334e-04 - val_loss: 0.0014\n",
            "Epoch 5/100\n",
            "59/59 [==============================] - 10s 173ms/step - loss: 7.2936e-04 - val_loss: 0.0015\n",
            "Epoch 6/100\n",
            "59/59 [==============================] - 9s 147ms/step - loss: 7.9776e-04 - val_loss: 0.0013\n",
            "Epoch 7/100\n",
            "59/59 [==============================] - 8s 143ms/step - loss: 6.9380e-04 - val_loss: 0.0013\n",
            "Epoch 8/100\n",
            "59/59 [==============================] - 8s 129ms/step - loss: 8.0360e-04 - val_loss: 0.0012\n",
            "Epoch 9/100\n",
            "59/59 [==============================] - 9s 148ms/step - loss: 7.1858e-04 - val_loss: 0.0012\n",
            "Epoch 10/100\n",
            "59/59 [==============================] - 8s 132ms/step - loss: 6.6030e-04 - val_loss: 0.0011\n",
            "Epoch 11/100\n",
            "59/59 [==============================] - 8s 140ms/step - loss: 7.0885e-04 - val_loss: 0.0010\n",
            "Epoch 12/100\n",
            "59/59 [==============================] - 9s 149ms/step - loss: 6.6762e-04 - val_loss: 0.0012\n",
            "Epoch 13/100\n",
            "59/59 [==============================] - 8s 137ms/step - loss: 7.1451e-04 - val_loss: 0.0013\n",
            "Epoch 14/100\n",
            "59/59 [==============================] - 9s 145ms/step - loss: 6.1425e-04 - val_loss: 9.2454e-04\n",
            "Epoch 15/100\n",
            "59/59 [==============================] - 9s 147ms/step - loss: 5.8200e-04 - val_loss: 0.0010\n",
            "Epoch 16/100\n",
            "59/59 [==============================] - 8s 127ms/step - loss: 5.9511e-04 - val_loss: 8.3289e-04\n",
            "Epoch 17/100\n",
            "59/59 [==============================] - 9s 148ms/step - loss: 5.9905e-04 - val_loss: 0.0017\n",
            "Epoch 18/100\n",
            "59/59 [==============================] - 9s 148ms/step - loss: 5.8427e-04 - val_loss: 0.0013\n",
            "Epoch 19/100\n",
            "59/59 [==============================] - 8s 128ms/step - loss: 5.3333e-04 - val_loss: 7.5143e-04\n",
            "Epoch 20/100\n",
            "59/59 [==============================] - 9s 147ms/step - loss: 4.7936e-04 - val_loss: 6.8597e-04\n",
            "Epoch 21/100\n",
            "59/59 [==============================] - 9s 147ms/step - loss: 4.7116e-04 - val_loss: 6.2418e-04\n",
            "Epoch 22/100\n",
            "59/59 [==============================] - 8s 128ms/step - loss: 4.6731e-04 - val_loss: 7.2714e-04\n",
            "Epoch 23/100\n",
            "59/59 [==============================] - 9s 147ms/step - loss: 4.9012e-04 - val_loss: 8.4939e-04\n",
            "Epoch 24/100\n",
            "59/59 [==============================] - 8s 144ms/step - loss: 4.5270e-04 - val_loss: 6.7862e-04\n",
            "Epoch 25/100\n",
            "59/59 [==============================] - 8s 130ms/step - loss: 4.3480e-04 - val_loss: 5.5883e-04\n",
            "Epoch 26/100\n",
            "59/59 [==============================] - 10s 163ms/step - loss: 4.6746e-04 - val_loss: 5.6651e-04\n",
            "Epoch 27/100\n",
            "59/59 [==============================] - 9s 148ms/step - loss: 4.1226e-04 - val_loss: 0.0010\n",
            "Epoch 28/100\n",
            "59/59 [==============================] - 8s 128ms/step - loss: 4.4729e-04 - val_loss: 5.5840e-04\n",
            "Epoch 29/100\n",
            "59/59 [==============================] - 9s 148ms/step - loss: 4.0148e-04 - val_loss: 6.0435e-04\n",
            "Epoch 30/100\n",
            "59/59 [==============================] - 8s 138ms/step - loss: 3.5216e-04 - val_loss: 5.1129e-04\n",
            "Epoch 31/100\n",
            "59/59 [==============================] - 8s 136ms/step - loss: 3.7319e-04 - val_loss: 8.0836e-04\n",
            "Epoch 32/100\n",
            "59/59 [==============================] - 9s 148ms/step - loss: 4.6802e-04 - val_loss: 4.5290e-04\n",
            "Epoch 33/100\n",
            "59/59 [==============================] - 8s 131ms/step - loss: 3.0592e-04 - val_loss: 5.7691e-04\n",
            "Epoch 34/100\n",
            "59/59 [==============================] - 9s 143ms/step - loss: 3.3808e-04 - val_loss: 4.5072e-04\n",
            "Epoch 35/100\n",
            "59/59 [==============================] - 9s 148ms/step - loss: 3.1966e-04 - val_loss: 7.0355e-04\n",
            "Epoch 36/100\n",
            "59/59 [==============================] - 8s 128ms/step - loss: 3.1077e-04 - val_loss: 0.0011\n",
            "Epoch 37/100\n",
            "59/59 [==============================] - 9s 147ms/step - loss: 3.6146e-04 - val_loss: 6.4722e-04\n",
            "Epoch 38/100\n",
            "59/59 [==============================] - 9s 147ms/step - loss: 2.9702e-04 - val_loss: 3.5486e-04\n",
            "Epoch 39/100\n",
            "59/59 [==============================] - 8s 129ms/step - loss: 2.8990e-04 - val_loss: 6.2971e-04\n",
            "Epoch 40/100\n",
            "59/59 [==============================] - 9s 147ms/step - loss: 2.7869e-04 - val_loss: 3.8952e-04\n",
            "Epoch 41/100\n",
            "59/59 [==============================] - 9s 148ms/step - loss: 2.7205e-04 - val_loss: 4.6618e-04\n",
            "Epoch 42/100\n",
            "59/59 [==============================] - 8s 131ms/step - loss: 3.4513e-04 - val_loss: 5.2426e-04\n",
            "Epoch 43/100\n",
            "59/59 [==============================] - 9s 150ms/step - loss: 2.6008e-04 - val_loss: 3.1599e-04\n",
            "Epoch 44/100\n",
            "59/59 [==============================] - 9s 147ms/step - loss: 2.5428e-04 - val_loss: 3.1312e-04\n",
            "Epoch 45/100\n",
            "59/59 [==============================] - 8s 128ms/step - loss: 2.5273e-04 - val_loss: 2.9052e-04\n",
            "Epoch 46/100\n",
            "59/59 [==============================] - 9s 148ms/step - loss: 2.8060e-04 - val_loss: 3.4846e-04\n",
            "Epoch 47/100\n",
            "59/59 [==============================] - 8s 140ms/step - loss: 2.3256e-04 - val_loss: 2.7533e-04\n",
            "Epoch 48/100\n",
            "59/59 [==============================] - 8s 135ms/step - loss: 2.5091e-04 - val_loss: 5.4401e-04\n",
            "Epoch 49/100\n",
            "59/59 [==============================] - 9s 148ms/step - loss: 2.2542e-04 - val_loss: 3.4186e-04\n",
            "Epoch 50/100\n",
            "59/59 [==============================] - 8s 133ms/step - loss: 2.0242e-04 - val_loss: 4.0721e-04\n",
            "Epoch 51/100\n",
            "59/59 [==============================] - 8s 142ms/step - loss: 2.2701e-04 - val_loss: 3.1770e-04\n",
            "Epoch 52/100\n",
            "59/59 [==============================] - 9s 148ms/step - loss: 2.1313e-04 - val_loss: 2.4981e-04\n",
            "Epoch 53/100\n",
            "59/59 [==============================] - 8s 130ms/step - loss: 1.9652e-04 - val_loss: 6.7489e-04\n",
            "Epoch 54/100\n",
            "59/59 [==============================] - 9s 149ms/step - loss: 2.1157e-04 - val_loss: 2.3205e-04\n",
            "Epoch 55/100\n",
            "59/59 [==============================] - 9s 148ms/step - loss: 2.1798e-04 - val_loss: 3.3112e-04\n",
            "Epoch 56/100\n",
            "59/59 [==============================] - 8s 128ms/step - loss: 1.8253e-04 - val_loss: 2.2467e-04\n",
            "Epoch 57/100\n",
            "59/59 [==============================] - 9s 148ms/step - loss: 2.0120e-04 - val_loss: 2.2471e-04\n",
            "Epoch 58/100\n",
            "59/59 [==============================] - 9s 148ms/step - loss: 1.5869e-04 - val_loss: 3.2245e-04\n",
            "Epoch 59/100\n",
            "59/59 [==============================] - 7s 127ms/step - loss: 1.7599e-04 - val_loss: 2.5623e-04\n",
            "Epoch 60/100\n",
            "59/59 [==============================] - 9s 149ms/step - loss: 2.1510e-04 - val_loss: 3.6678e-04\n",
            "Epoch 61/100\n",
            "59/59 [==============================] - 9s 145ms/step - loss: 2.0446e-04 - val_loss: 2.9901e-04\n",
            "Epoch 62/100\n",
            "59/59 [==============================] - 8s 130ms/step - loss: 1.7709e-04 - val_loss: 2.3284e-04\n",
            "Epoch 63/100\n",
            "59/59 [==============================] - 9s 148ms/step - loss: 2.0091e-04 - val_loss: 2.1237e-04\n",
            "Epoch 64/100\n",
            "59/59 [==============================] - 8s 138ms/step - loss: 2.3039e-04 - val_loss: 2.1940e-04\n",
            "Epoch 65/100\n",
            "59/59 [==============================] - 8s 139ms/step - loss: 1.6289e-04 - val_loss: 2.0701e-04\n",
            "Epoch 66/100\n",
            "59/59 [==============================] - 9s 148ms/step - loss: 1.7131e-04 - val_loss: 2.1570e-04\n",
            "Epoch 67/100\n",
            "59/59 [==============================] - 8s 132ms/step - loss: 1.6956e-04 - val_loss: 3.1829e-04\n",
            "Epoch 68/100\n",
            "59/59 [==============================] - 9s 144ms/step - loss: 1.9328e-04 - val_loss: 0.0011\n",
            "Epoch 69/100\n",
            "59/59 [==============================] - 9s 150ms/step - loss: 2.1363e-04 - val_loss: 2.1336e-04\n",
            "Epoch 70/100\n",
            "59/59 [==============================] - 8s 128ms/step - loss: 1.7737e-04 - val_loss: 2.7023e-04\n",
            "Epoch 71/100\n",
            "59/59 [==============================] - 9s 150ms/step - loss: 1.6690e-04 - val_loss: 2.0562e-04\n",
            "Epoch 72/100\n",
            "59/59 [==============================] - 9s 149ms/step - loss: 1.5199e-04 - val_loss: 2.0340e-04\n",
            "Epoch 73/100\n",
            "59/59 [==============================] - 8s 128ms/step - loss: 1.7068e-04 - val_loss: 5.7129e-04\n",
            "Epoch 74/100\n",
            "59/59 [==============================] - 9s 149ms/step - loss: 2.8625e-04 - val_loss: 5.4028e-04\n",
            "Epoch 75/100\n",
            "59/59 [==============================] - 9s 149ms/step - loss: 1.8687e-04 - val_loss: 3.3166e-04\n",
            "Epoch 76/100\n",
            "59/59 [==============================] - 8s 129ms/step - loss: 1.7292e-04 - val_loss: 2.1213e-04\n",
            "Epoch 77/100\n",
            "59/59 [==============================] - 9s 148ms/step - loss: 1.9036e-04 - val_loss: 2.0599e-04\n",
            "Epoch 78/100\n",
            "59/59 [==============================] - 9s 148ms/step - loss: 1.6828e-04 - val_loss: 2.8434e-04\n",
            "Epoch 79/100\n",
            "59/59 [==============================] - 8s 128ms/step - loss: 1.5279e-04 - val_loss: 2.5663e-04\n",
            "Epoch 80/100\n",
            "59/59 [==============================] - 9s 148ms/step - loss: 1.3873e-04 - val_loss: 1.9807e-04\n",
            "Epoch 81/100\n",
            "59/59 [==============================] - 8s 140ms/step - loss: 1.7239e-04 - val_loss: 2.3407e-04\n",
            "Epoch 82/100\n",
            "59/59 [==============================] - 9s 157ms/step - loss: 1.5153e-04 - val_loss: 2.0687e-04\n",
            "Epoch 83/100\n",
            "59/59 [==============================] - 9s 149ms/step - loss: 1.4767e-04 - val_loss: 1.9917e-04\n",
            "Epoch 84/100\n",
            "59/59 [==============================] - 9s 150ms/step - loss: 1.6164e-04 - val_loss: 2.6304e-04\n",
            "Epoch 85/100\n",
            "59/59 [==============================] - 8s 128ms/step - loss: 1.6664e-04 - val_loss: 2.0873e-04\n",
            "Epoch 86/100\n",
            "59/59 [==============================] - 9s 149ms/step - loss: 1.5747e-04 - val_loss: 2.0831e-04\n",
            "Epoch 87/100\n",
            "59/59 [==============================] - 8s 142ms/step - loss: 1.4078e-04 - val_loss: 2.4112e-04\n",
            "Epoch 88/100\n",
            "59/59 [==============================] - 8s 133ms/step - loss: 1.4274e-04 - val_loss: 1.9820e-04\n",
            "Epoch 89/100\n",
            "59/59 [==============================] - 9s 148ms/step - loss: 1.6258e-04 - val_loss: 2.6313e-04\n",
            "Epoch 90/100\n",
            "59/59 [==============================] - 8s 136ms/step - loss: 1.6453e-04 - val_loss: 3.0474e-04\n",
            "Epoch 91/100\n",
            "59/59 [==============================] - 8s 140ms/step - loss: 1.7191e-04 - val_loss: 2.0178e-04\n",
            "Epoch 92/100\n",
            "59/59 [==============================] - 9s 148ms/step - loss: 1.4326e-04 - val_loss: 2.1004e-04\n",
            "Epoch 93/100\n",
            "59/59 [==============================] - 8s 128ms/step - loss: 1.6371e-04 - val_loss: 2.0966e-04\n",
            "Epoch 94/100\n",
            "59/59 [==============================] - 9s 146ms/step - loss: 2.0868e-04 - val_loss: 6.3190e-04\n",
            "Epoch 95/100\n",
            "59/59 [==============================] - 9s 148ms/step - loss: 1.6818e-04 - val_loss: 1.9969e-04\n",
            "Epoch 96/100\n",
            "59/59 [==============================] - 8s 129ms/step - loss: 1.4661e-04 - val_loss: 2.0155e-04\n",
            "Epoch 97/100\n",
            "59/59 [==============================] - 9s 148ms/step - loss: 1.5374e-04 - val_loss: 2.9972e-04\n",
            "Epoch 98/100\n",
            "59/59 [==============================] - 9s 149ms/step - loss: 1.4961e-04 - val_loss: 2.7927e-04\n",
            "Epoch 99/100\n",
            "59/59 [==============================] - 8s 129ms/step - loss: 1.6106e-04 - val_loss: 2.6848e-04\n",
            "Epoch 100/100\n",
            "59/59 [==============================] - 9s 149ms/step - loss: 1.5919e-04 - val_loss: 2.1053e-04\n"
          ]
        },
        {
          "output_type": "execute_result",
          "data": {
            "text/plain": [
              "<keras.src.callbacks.History at 0x7c40c9873820>"
            ]
          },
          "metadata": {},
          "execution_count": 62
        }
      ]
    },
    {
      "cell_type": "code",
      "source": [
        "test_pred = model.predict(X_test)\n",
        "test_pred = scaler.inverse_transform(test_pred)\n",
        "print(len(test_pred))\n"
      ],
      "metadata": {
        "colab": {
          "base_uri": "https://localhost:8080/"
        },
        "id": "fkoqA1roSo9G",
        "outputId": "361c0465-b2e0-4117-bc73-940c1628be26"
      },
      "execution_count": null,
      "outputs": [
        {
          "output_type": "stream",
          "name": "stdout",
          "text": [
            "4/4 [==============================] - 1s 39ms/step\n",
            "125\n"
          ]
        }
      ]
    },
    {
      "cell_type": "code",
      "source": [
        "final = data.reset_index()['Close']\n",
        "test_tr = final[1860:]"
      ],
      "metadata": {
        "id": "mqutlO3W4wix"
      },
      "execution_count": null,
      "outputs": []
    },
    {
      "cell_type": "code",
      "source": [
        "print(len(test_tr))"
      ],
      "metadata": {
        "colab": {
          "base_uri": "https://localhost:8080/"
        },
        "id": "2rzve6VDTU0V",
        "outputId": "8d30b968-5ecb-4c6b-a69e-371fe502f8d9"
      },
      "execution_count": null,
      "outputs": [
        {
          "output_type": "stream",
          "name": "stdout",
          "text": [
            "126\n"
          ]
        }
      ]
    },
    {
      "cell_type": "code",
      "source": [
        "import matplotlib.pyplot as plt\n",
        "\n",
        "# Assuming 'test_true' and 'test_predict' are your lists of true and predicted values\n",
        "\n",
        "# Plot true values\n",
        "plt.plot(test_tr, label='True Values', color='blue')\n",
        "\n",
        "# Plot predicted values\n",
        "plt.plot(test_pred, label='Predicted Values', color='red')\n",
        "\n",
        "# Add labels and title\n",
        "plt.xlabel('Index')\n",
        "plt.ylabel('Value')\n",
        "plt.title('True vs. Predicted Values')\n",
        "\n",
        "# Add legend\n",
        "plt.legend()\n",
        "\n",
        "# Show plot\n",
        "plt.show()"
      ],
      "metadata": {
        "colab": {
          "base_uri": "https://localhost:8080/",
          "height": 472
        },
        "id": "YR117fQxfczI",
        "outputId": "7ea396ff-a9a0-4ffe-a459-34dce9a374fd"
      },
      "execution_count": null,
      "outputs": [
        {
          "output_type": "display_data",
          "data": {
            "text/plain": [
              "<Figure size 640x480 with 1 Axes>"
            ],
            "image/png": "[encoded data removed]"
          },
          "metadata": {}
        }
      ]
    },
    {
      "cell_type": "code",
      "source": [
        "final_2 = data.reset_index()['Close']"
      ],
      "metadata": {
        "id": "Vk_DGsrDAVv7"
      },
      "execution_count": null,
      "outputs": []
    },
    {
      "cell_type": "code",
      "source": [
        "for i in range(125):\n",
        "  print(test_tr[i], \" \", test_pred[i])"
      ],
      "metadata": {
        "colab": {
          "base_uri": "https://localhost:8080/"
        },
        "id": "QozJUyB1_Zxd",
        "outputId": "eb7f75aa-cd49-4bfb-8a78-f055c0849161"
      },
      "execution_count": null,
      "outputs": [
        {
          "output_type": "stream",
          "name": "stdout",
          "text": [
            "17148.93945   [17141.16]\n",
            "17158.66016   [17222.906]\n",
            "16906.50977   [16925.332]\n",
            "16514.09961   [16569.887]\n",
            "16346.4502   [16401.959]\n",
            "16398.57031   [16490.947]\n",
            "16516.2207   [16604.168]\n",
            "16151.41016   [16222.816]\n",
            "16379.04981   [16410.469]\n",
            "15988.08008   [16029.673]\n",
            "16016.01953   [16043.01]\n",
            "15766.74023   [15834.563]\n",
            "15882.67969   [15953.297]\n",
            "16093.50977   [16127.353]\n",
            "15885.21973   [15910.687]\n",
            "16167.23047   [16168.678]\n",
            "15944.45996   [15966.191]\n",
            "16069.63965   [16084.358]\n",
            "16466.30078   [16506.738]\n",
            "16449.17969   [16471.1]\n",
            "16153.54004   [16170.864]\n",
            "16336.66016   [16329.99]\n",
            "16416.58008   [16466.738]\n",
            "16204.96973   [16257.465]\n",
            "16027.04981   [16075.681]\n",
            "16014.37988   [16090.905]\n",
            "15914.74023   [15988.341]\n",
            "15660.17969   [15722.635]\n",
            "15973.83984   [16089.908]\n",
            "16196.41016   [16271.474]\n",
            "16453.83008   [16522.705]\n",
            "16413.42969   [16441.62]\n",
            "16391.99023   [16440.088]\n",
            "16620.66016   [16651.062]\n",
            "16431.7793   [16483.805]\n",
            "16484.99023   [16518.83]\n",
            "16697.28906   [16748.48]\n",
            "16639.9707   [16670.762]\n",
            "16516.5   [16556.617]\n",
            "16865.08008   [16918.89]\n",
            "16899.32031   [16937.322]\n",
            "16943.90039   [16955.994]\n",
            "17006.76953   [17048.459]\n",
            "17073.94922   [17109.598]\n",
            "16964.09961   [16983.285]\n",
            "17000.35938   [17059.723]\n",
            "16995.13086   [17049.773]\n",
            "17213.31055   [17251.914]\n",
            "17229.13086   [17293.582]\n",
            "17251.5293   [17287.629]\n",
            "17325.75977   [17401.064]\n",
            "17481.49023   [17523.78]\n",
            "17602.30078   [17642.367]\n",
            "17623.86914   [17624.688]\n",
            "17582.57031   [17588.213]\n",
            "17502.58984   [17515.77]\n",
            "17515.73047   [17534.576]\n",
            "17535.39063   [17564.05]\n",
            "17633.10938   [17660.922]\n",
            "17716.66016   [17733.678]\n",
            "17685.08984   [17722.]\n",
            "17792.75   [17788.889]\n",
            "17737.0   [17734.02]\n",
            "17603.32031   [17610.379]\n",
            "17716.05078   [17768.225]\n",
            "17541.96094   [17562.658]\n",
            "17576.96094   [17594.967]\n",
            "17556.41016   [17607.865]\n",
            "17721.25   [17771.049]\n",
            "17908.2793   [17952.014]\n",
            "17926.42969   [17933.875]\n",
            "17897.46094   [17901.848]\n",
            "18004.16016   [18033.219]\n",
            "18053.59961   [18076.613]\n",
            "18096.26953   [18108.213]\n",
            "17982.51953   [18002.498]\n",
            "18003.75   [18027.557]\n",
            "17977.24023   [17970.33]\n",
            "17990.32031   [18011.684]\n",
            "18041.55078   [18091.252]\n",
            "17830.75977   [17833.277]\n",
            "17773.64063   [17839.846]\n",
            "17891.16016   [17931.031]\n",
            "17750.91016   [17796.51]\n",
            "17651.25977   [17692.348]\n",
            "17660.71094   [17738.14]\n",
            "17740.63086   [17783.041]\n",
            "17705.91016   [17746.883]\n",
            "17928.34961   [17976.207]\n",
            "17711.11914   [17737.717]\n",
            "17720.5   [17740.607]\n",
            "17535.32031   [17575.488]\n",
            "17710.71094   [17744.686]\n",
            "17529.98047   [17592.879]\n",
            "17526.61914   [17566.125]\n",
            "17435.40039   [17499.78]\n",
            "17500.93945   [17554.898]\n",
            "17492.92969   [17532.06]\n",
            "17706.05078   [17758.768]\n",
            "17851.50977   [17842.363]\n",
            "17828.28906   [17817.262]\n",
            "17873.2207   [17866.895]\n",
            "17787.19922   [17773.604]\n",
            "17789.66992   [17786.455]\n",
            "17838.56055   [17857.527]\n",
            "17807.06055   [17826.248]\n",
            "17920.33008   [17927.768]\n",
            "17938.2793   [17954.037]\n",
            "18005.05078   [18018.277]\n",
            "17985.18945   [17996.225]\n",
            "17865.33984   [17885.496]\n",
            "17732.48047   [17762.502]\n",
            "17674.82031   [17730.]\n",
            "17640.16992   [17683.336]\n",
            "17733.09961   [17796.666]\n",
            "17675.16016   [17704.096]\n",
            "17804.86914   [17830.438]\n",
            "17829.73047   [17821.162]\n",
            "17780.83008   [17801.707]\n",
            "18011.07031   [18029.076]\n",
            "17400.75   [17385.316]\n",
            "17140.24023   [17195.062]\n",
            "17409.7207   [17503.744]\n",
            "17694.67969   [17756.832]\n",
            "17929.99023   [17953.574]\n"
          ]
        }
      ]
    },
    {
      "cell_type": "code",
      "source": [
        "test_predictions = []\n",
        "for i in range(126):\n",
        "  test_predictions.append(test_pred[i][0] * 10**5)"
      ],
      "metadata": {
        "id": "8Ks47L9miWr6"
      },
      "execution_count": null,
      "outputs": []
    },
    {
      "cell_type": "code",
      "source": [
        "# Create a DataFrame with 'id' and 'close' columns\n",
        "df = pd.DataFrame({'id': range(1, len(test_predictions) + 1), 'Close': test_predictions})\n",
        "\n",
        "# Save the DataFrame to a CSV file\n",
        "df.to_csv('predictions.csv', index=False)"
      ],
      "metadata": {
        "id": "EIuDOie_g8Yo"
      },
      "execution_count": null,
      "outputs": []
    },
    {
      "cell_type": "code",
      "source": [
        "test_tr_scaled=[]\n",
        "for i in range(126):\n",
        "  test_tr_scaled.append(test_tr[i]*10**5)"
      ],
      "metadata": {
        "id": "Ff-rUc3p8BaQ"
      },
      "execution_count": null,
      "outputs": []
    },
    {
      "cell_type": "markdown",
      "source": [
        "Evaluation"
      ],
      "metadata": {
        "id": "b6kvkbsyXY8X"
      }
    },
    {
      "cell_type": "code",
      "source": [
        "rmse = 0\n",
        "for i in range(126):\n",
        "  rmse = rmse + (test_tr_scaled[i] - test_predictions[i])**2\n",
        "print(rmse/126)"
      ],
      "metadata": {
        "colab": {
          "base_uri": "https://localhost:8080/"
        },
        "id": "bIDkKxg7uaco",
        "outputId": "c0d6e957-2214-45c8-9635-20d77867ee55"
      },
      "execution_count": null,
      "outputs": [
        {
          "output_type": "stream",
          "name": "stdout",
          "text": [
            "18511224356178.066\n"
          ]
        }
      ]
    },
    {
      "cell_type": "code",
      "source": [
        "rmse = 0\n",
        "for i in range(126):\n",
        "  rmse = rmse + (test_tr_scaled[i] - answer[i])**2\n",
        "print(rmse/126)"
      ],
      "metadata": {
        "colab": {
          "base_uri": "https://localhost:8080/"
        },
        "id": "k0s9x7kgy2u-",
        "outputId": "e496f4fa-2143-4fba-fddc-ec3b36eb4464"
      },
      "execution_count": null,
      "outputs": [
        {
          "output_type": "stream",
          "name": "stdout",
          "text": [
            "2.9743288913040476e+18\n"
          ]
        }
      ]
    },
    {
      "cell_type": "code",
      "source": [],
      "metadata": {
        "id": "VyJmcLtB-5c4"
      },
      "execution_count": null,
      "outputs": []
    }
  ]
}